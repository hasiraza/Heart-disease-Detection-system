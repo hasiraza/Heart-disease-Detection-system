{
 "cells": [
  {
   "cell_type": "markdown",
   "id": "d8691256-ce5d-462c-9845-e0dccedf48c0",
   "metadata": {},
   "source": [
    "# Heart disease detection system\n",
    "Train system that predict that the patient have any heart disease by using old data"
   ]
  },
  {
   "cell_type": "markdown",
   "id": "8e173540-287a-403d-880b-0571a77bf7e7",
   "metadata": {},
   "source": [
    "## loadind data"
   ]
  },
  {
   "cell_type": "code",
   "execution_count": 3,
   "id": "9da75de6-c836-459c-b37b-41c273a317d9",
   "metadata": {},
   "outputs": [],
   "source": [
    "import pandas as pd\n",
    "df=pd.read_csv('Model/datasets_4123_6408_framingham.csv')"
   ]
  },
  {
   "cell_type": "code",
   "execution_count": 4,
   "id": "0cfecb18-cbca-4824-b231-246ad75c4996",
   "metadata": {},
   "outputs": [
    {
     "data": {
      "text/html": [
       "<div>\n",
       "<style scoped>\n",
       "    .dataframe tbody tr th:only-of-type {\n",
       "        vertical-align: middle;\n",
       "    }\n",
       "\n",
       "    .dataframe tbody tr th {\n",
       "        vertical-align: top;\n",
       "    }\n",
       "\n",
       "    .dataframe thead th {\n",
       "        text-align: right;\n",
       "    }\n",
       "</style>\n",
       "<table border=\"1\" class=\"dataframe\">\n",
       "  <thead>\n",
       "    <tr style=\"text-align: right;\">\n",
       "      <th></th>\n",
       "      <th>male</th>\n",
       "      <th>age</th>\n",
       "      <th>education</th>\n",
       "      <th>currentSmoker</th>\n",
       "      <th>cigsPerDay</th>\n",
       "      <th>BPMeds</th>\n",
       "      <th>prevalentStroke</th>\n",
       "      <th>prevalentHyp</th>\n",
       "      <th>diabetes</th>\n",
       "      <th>totChol</th>\n",
       "      <th>sysBP</th>\n",
       "      <th>diaBP</th>\n",
       "      <th>BMI</th>\n",
       "      <th>heartRate</th>\n",
       "      <th>glucose</th>\n",
       "      <th>TenYearCHD</th>\n",
       "    </tr>\n",
       "  </thead>\n",
       "  <tbody>\n",
       "    <tr>\n",
       "      <th>2160</th>\n",
       "      <td>0</td>\n",
       "      <td>62</td>\n",
       "      <td>1.0</td>\n",
       "      <td>0</td>\n",
       "      <td>0.0</td>\n",
       "      <td>0.0</td>\n",
       "      <td>0</td>\n",
       "      <td>1</td>\n",
       "      <td>0</td>\n",
       "      <td>242.0</td>\n",
       "      <td>130.0</td>\n",
       "      <td>91.0</td>\n",
       "      <td>31.12</td>\n",
       "      <td>80.0</td>\n",
       "      <td>NaN</td>\n",
       "      <td>0</td>\n",
       "    </tr>\n",
       "    <tr>\n",
       "      <th>467</th>\n",
       "      <td>1</td>\n",
       "      <td>53</td>\n",
       "      <td>1.0</td>\n",
       "      <td>1</td>\n",
       "      <td>50.0</td>\n",
       "      <td>0.0</td>\n",
       "      <td>0</td>\n",
       "      <td>0</td>\n",
       "      <td>0</td>\n",
       "      <td>306.0</td>\n",
       "      <td>127.0</td>\n",
       "      <td>82.5</td>\n",
       "      <td>31.22</td>\n",
       "      <td>72.0</td>\n",
       "      <td>NaN</td>\n",
       "      <td>0</td>\n",
       "    </tr>\n",
       "    <tr>\n",
       "      <th>1219</th>\n",
       "      <td>1</td>\n",
       "      <td>58</td>\n",
       "      <td>1.0</td>\n",
       "      <td>0</td>\n",
       "      <td>0.0</td>\n",
       "      <td>0.0</td>\n",
       "      <td>0</td>\n",
       "      <td>1</td>\n",
       "      <td>0</td>\n",
       "      <td>264.0</td>\n",
       "      <td>181.0</td>\n",
       "      <td>90.0</td>\n",
       "      <td>24.49</td>\n",
       "      <td>75.0</td>\n",
       "      <td>71.0</td>\n",
       "      <td>0</td>\n",
       "    </tr>\n",
       "    <tr>\n",
       "      <th>3124</th>\n",
       "      <td>0</td>\n",
       "      <td>51</td>\n",
       "      <td>3.0</td>\n",
       "      <td>0</td>\n",
       "      <td>0.0</td>\n",
       "      <td>0.0</td>\n",
       "      <td>0</td>\n",
       "      <td>1</td>\n",
       "      <td>0</td>\n",
       "      <td>198.0</td>\n",
       "      <td>142.5</td>\n",
       "      <td>80.0</td>\n",
       "      <td>23.86</td>\n",
       "      <td>76.0</td>\n",
       "      <td>100.0</td>\n",
       "      <td>0</td>\n",
       "    </tr>\n",
       "    <tr>\n",
       "      <th>2400</th>\n",
       "      <td>0</td>\n",
       "      <td>35</td>\n",
       "      <td>2.0</td>\n",
       "      <td>0</td>\n",
       "      <td>0.0</td>\n",
       "      <td>0.0</td>\n",
       "      <td>0</td>\n",
       "      <td>0</td>\n",
       "      <td>0</td>\n",
       "      <td>135.0</td>\n",
       "      <td>105.0</td>\n",
       "      <td>69.0</td>\n",
       "      <td>22.88</td>\n",
       "      <td>70.0</td>\n",
       "      <td>76.0</td>\n",
       "      <td>0</td>\n",
       "    </tr>\n",
       "  </tbody>\n",
       "</table>\n",
       "</div>"
      ],
      "text/plain": [
       "      male  age  education  currentSmoker  cigsPerDay  BPMeds  \\\n",
       "2160     0   62        1.0              0         0.0     0.0   \n",
       "467      1   53        1.0              1        50.0     0.0   \n",
       "1219     1   58        1.0              0         0.0     0.0   \n",
       "3124     0   51        3.0              0         0.0     0.0   \n",
       "2400     0   35        2.0              0         0.0     0.0   \n",
       "\n",
       "      prevalentStroke  prevalentHyp  diabetes  totChol  sysBP  diaBP    BMI  \\\n",
       "2160                0             1         0    242.0  130.0   91.0  31.12   \n",
       "467                 0             0         0    306.0  127.0   82.5  31.22   \n",
       "1219                0             1         0    264.0  181.0   90.0  24.49   \n",
       "3124                0             1         0    198.0  142.5   80.0  23.86   \n",
       "2400                0             0         0    135.0  105.0   69.0  22.88   \n",
       "\n",
       "      heartRate  glucose  TenYearCHD  \n",
       "2160       80.0      NaN           0  \n",
       "467        72.0      NaN           0  \n",
       "1219       75.0     71.0           0  \n",
       "3124       76.0    100.0           0  \n",
       "2400       70.0     76.0           0  "
      ]
     },
     "execution_count": 4,
     "metadata": {},
     "output_type": "execute_result"
    }
   ],
   "source": [
    "df.sample(5)"
   ]
  },
  {
   "cell_type": "code",
   "execution_count": 5,
   "id": "947c3a2f-bac0-4021-871f-d7aec5f92afe",
   "metadata": {},
   "outputs": [],
   "source": [
    "df.drop('education',axis=1, inplace=True)"
   ]
  },
  {
   "cell_type": "code",
   "execution_count": 6,
   "id": "e3a88566-bb81-4f5c-8436-d0746216c90d",
   "metadata": {},
   "outputs": [
    {
     "data": {
      "text/html": [
       "<div>\n",
       "<style scoped>\n",
       "    .dataframe tbody tr th:only-of-type {\n",
       "        vertical-align: middle;\n",
       "    }\n",
       "\n",
       "    .dataframe tbody tr th {\n",
       "        vertical-align: top;\n",
       "    }\n",
       "\n",
       "    .dataframe thead th {\n",
       "        text-align: right;\n",
       "    }\n",
       "</style>\n",
       "<table border=\"1\" class=\"dataframe\">\n",
       "  <thead>\n",
       "    <tr style=\"text-align: right;\">\n",
       "      <th></th>\n",
       "      <th>male</th>\n",
       "      <th>age</th>\n",
       "      <th>currentSmoker</th>\n",
       "      <th>cigsPerDay</th>\n",
       "      <th>BPMeds</th>\n",
       "      <th>prevalentStroke</th>\n",
       "      <th>prevalentHyp</th>\n",
       "      <th>diabetes</th>\n",
       "      <th>totChol</th>\n",
       "      <th>sysBP</th>\n",
       "      <th>diaBP</th>\n",
       "      <th>BMI</th>\n",
       "      <th>heartRate</th>\n",
       "      <th>glucose</th>\n",
       "      <th>TenYearCHD</th>\n",
       "    </tr>\n",
       "  </thead>\n",
       "  <tbody>\n",
       "    <tr>\n",
       "      <th>3507</th>\n",
       "      <td>1</td>\n",
       "      <td>50</td>\n",
       "      <td>1</td>\n",
       "      <td>16.0</td>\n",
       "      <td>0.0</td>\n",
       "      <td>0</td>\n",
       "      <td>0</td>\n",
       "      <td>0</td>\n",
       "      <td>214.0</td>\n",
       "      <td>114.0</td>\n",
       "      <td>72.0</td>\n",
       "      <td>22.93</td>\n",
       "      <td>66.0</td>\n",
       "      <td>83.0</td>\n",
       "      <td>0</td>\n",
       "    </tr>\n",
       "    <tr>\n",
       "      <th>1954</th>\n",
       "      <td>0</td>\n",
       "      <td>51</td>\n",
       "      <td>0</td>\n",
       "      <td>0.0</td>\n",
       "      <td>0.0</td>\n",
       "      <td>0</td>\n",
       "      <td>0</td>\n",
       "      <td>0</td>\n",
       "      <td>216.0</td>\n",
       "      <td>128.0</td>\n",
       "      <td>83.5</td>\n",
       "      <td>24.41</td>\n",
       "      <td>72.0</td>\n",
       "      <td>75.0</td>\n",
       "      <td>0</td>\n",
       "    </tr>\n",
       "    <tr>\n",
       "      <th>1484</th>\n",
       "      <td>1</td>\n",
       "      <td>61</td>\n",
       "      <td>0</td>\n",
       "      <td>0.0</td>\n",
       "      <td>0.0</td>\n",
       "      <td>0</td>\n",
       "      <td>0</td>\n",
       "      <td>0</td>\n",
       "      <td>179.0</td>\n",
       "      <td>112.0</td>\n",
       "      <td>66.5</td>\n",
       "      <td>24.38</td>\n",
       "      <td>60.0</td>\n",
       "      <td>100.0</td>\n",
       "      <td>0</td>\n",
       "    </tr>\n",
       "    <tr>\n",
       "      <th>3770</th>\n",
       "      <td>1</td>\n",
       "      <td>40</td>\n",
       "      <td>1</td>\n",
       "      <td>20.0</td>\n",
       "      <td>0.0</td>\n",
       "      <td>0</td>\n",
       "      <td>0</td>\n",
       "      <td>0</td>\n",
       "      <td>290.0</td>\n",
       "      <td>120.0</td>\n",
       "      <td>89.0</td>\n",
       "      <td>27.99</td>\n",
       "      <td>80.0</td>\n",
       "      <td>66.0</td>\n",
       "      <td>0</td>\n",
       "    </tr>\n",
       "    <tr>\n",
       "      <th>771</th>\n",
       "      <td>0</td>\n",
       "      <td>63</td>\n",
       "      <td>0</td>\n",
       "      <td>0.0</td>\n",
       "      <td>0.0</td>\n",
       "      <td>0</td>\n",
       "      <td>1</td>\n",
       "      <td>0</td>\n",
       "      <td>210.0</td>\n",
       "      <td>148.0</td>\n",
       "      <td>85.5</td>\n",
       "      <td>24.01</td>\n",
       "      <td>76.0</td>\n",
       "      <td>88.0</td>\n",
       "      <td>1</td>\n",
       "    </tr>\n",
       "  </tbody>\n",
       "</table>\n",
       "</div>"
      ],
      "text/plain": [
       "      male  age  currentSmoker  cigsPerDay  BPMeds  prevalentStroke  \\\n",
       "3507     1   50              1        16.0     0.0                0   \n",
       "1954     0   51              0         0.0     0.0                0   \n",
       "1484     1   61              0         0.0     0.0                0   \n",
       "3770     1   40              1        20.0     0.0                0   \n",
       "771      0   63              0         0.0     0.0                0   \n",
       "\n",
       "      prevalentHyp  diabetes  totChol  sysBP  diaBP    BMI  heartRate  \\\n",
       "3507             0         0    214.0  114.0   72.0  22.93       66.0   \n",
       "1954             0         0    216.0  128.0   83.5  24.41       72.0   \n",
       "1484             0         0    179.0  112.0   66.5  24.38       60.0   \n",
       "3770             0         0    290.0  120.0   89.0  27.99       80.0   \n",
       "771              1         0    210.0  148.0   85.5  24.01       76.0   \n",
       "\n",
       "      glucose  TenYearCHD  \n",
       "3507     83.0           0  \n",
       "1954     75.0           0  \n",
       "1484    100.0           0  \n",
       "3770     66.0           0  \n",
       "771      88.0           1  "
      ]
     },
     "execution_count": 6,
     "metadata": {},
     "output_type": "execute_result"
    }
   ],
   "source": [
    "df.sample(5)"
   ]
  },
  {
   "cell_type": "code",
   "execution_count": 7,
   "id": "f3672a9f-a27a-4ba3-9e99-451284d5a404",
   "metadata": {},
   "outputs": [
    {
     "data": {
      "text/plain": [
       "male                 0\n",
       "age                  0\n",
       "currentSmoker        0\n",
       "cigsPerDay          29\n",
       "BPMeds              53\n",
       "prevalentStroke      0\n",
       "prevalentHyp         0\n",
       "diabetes             0\n",
       "totChol             50\n",
       "sysBP                0\n",
       "diaBP                0\n",
       "BMI                 19\n",
       "heartRate            1\n",
       "glucose            388\n",
       "TenYearCHD           0\n",
       "dtype: int64"
      ]
     },
     "execution_count": 7,
     "metadata": {},
     "output_type": "execute_result"
    }
   ],
   "source": [
    "df.isnull().sum()"
   ]
  },
  {
   "cell_type": "code",
   "execution_count": 8,
   "id": "7900f01b-9209-4fb7-96c7-b4f264c1f5c3",
   "metadata": {},
   "outputs": [],
   "source": [
    "missing_columns=['cigsPerDay','BPMeds','totChol','BMI','glucose','heartRate']"
   ]
  },
  {
   "cell_type": "code",
   "execution_count": 9,
   "id": "b8733a9b-67d9-4f41-8c05-58f4904fc867",
   "metadata": {},
   "outputs": [
    {
     "name": "stdout",
     "output_type": "stream",
     "text": [
      "cigsPerDay\n",
      "BPMeds\n",
      "totChol\n",
      "BMI\n",
      "glucose\n",
      "heartRate\n"
     ]
    }
   ],
   "source": [
    "for col in missing_columns:\n",
    "    print(col)"
   ]
  },
  {
   "cell_type": "code",
   "execution_count": 10,
   "id": "56f988fe-471a-4a65-96a5-72b824e71059",
   "metadata": {},
   "outputs": [
    {
     "name": "stderr",
     "output_type": "stream",
     "text": [
      "C:\\Users\\haseeeb\\AppData\\Local\\Temp\\ipykernel_17880\\2256669433.py:3: FutureWarning: A value is trying to be set on a copy of a DataFrame or Series through chained assignment using an inplace method.\n",
      "The behavior will change in pandas 3.0. This inplace method will never work because the intermediate object on which we are setting values always behaves as a copy.\n",
      "\n",
      "For example, when doing 'df[col].method(value, inplace=True)', try using 'df.method({col: value}, inplace=True)' or df[col] = df[col].method(value) instead, to perform the operation inplace on the original object.\n",
      "\n",
      "\n",
      "  df[col].fillna(mode_value,inplace=True)\n"
     ]
    }
   ],
   "source": [
    "for col in missing_columns:\n",
    "    mode_value=df[col].mode()[0]\n",
    "    df[col].fillna(mode_value,inplace=True)"
   ]
  },
  {
   "cell_type": "code",
   "execution_count": 11,
   "id": "66a4482b-b21a-4510-9d2f-d09ac3f4fe3f",
   "metadata": {},
   "outputs": [
    {
     "data": {
      "text/plain": [
       "male               0\n",
       "age                0\n",
       "currentSmoker      0\n",
       "cigsPerDay         0\n",
       "BPMeds             0\n",
       "prevalentStroke    0\n",
       "prevalentHyp       0\n",
       "diabetes           0\n",
       "totChol            0\n",
       "sysBP              0\n",
       "diaBP              0\n",
       "BMI                0\n",
       "heartRate          0\n",
       "glucose            0\n",
       "TenYearCHD         0\n",
       "dtype: int64"
      ]
     },
     "execution_count": 11,
     "metadata": {},
     "output_type": "execute_result"
    }
   ],
   "source": [
    "df.isnull().sum()"
   ]
  },
  {
   "cell_type": "markdown",
   "id": "b0b2e133-84d7-454c-83e6-db4b1f0b0248",
   "metadata": {},
   "source": [
    "#### Balanceing data "
   ]
  },
  {
   "cell_type": "code",
   "execution_count": 12,
   "id": "c9834ffd-9851-466e-a9a8-e356a6ad273d",
   "metadata": {},
   "outputs": [],
   "source": [
    "from matplotlib import pyplot as plt"
   ]
  },
  {
   "cell_type": "code",
   "execution_count": 13,
   "id": "117affd6-894f-4a25-b7cd-ffd82f6f2fd3",
   "metadata": {},
   "outputs": [
    {
     "data": {
      "text/plain": [
       "<Axes: xlabel='TenYearCHD'>"
      ]
     },
     "execution_count": 13,
     "metadata": {},
     "output_type": "execute_result"
    },
    {
     "data": {
      "image/png": "[encoded data removed]",
      "text/plain": [
       "<Figure size 640x480 with 1 Axes>"
      ]
     },
     "metadata": {},
     "output_type": "display_data"
    }
   ],
   "source": [
    "df['TenYearCHD'].value_counts().plot(kind='bar')"
   ]
  },
  {
   "cell_type": "code",
   "execution_count": 14,
   "id": "da4aabb2-51b2-4e25-aa69-e0299c8b9ded",
   "metadata": {},
   "outputs": [
    {
     "data": {
      "text/plain": [
       "TenYearCHD\n",
       "0    3596\n",
       "1     644\n",
       "Name: count, dtype: int64"
      ]
     },
     "execution_count": 14,
     "metadata": {},
     "output_type": "execute_result"
    }
   ],
   "source": [
    "df['TenYearCHD'].value_counts()"
   ]
  },
  {
   "cell_type": "code",
   "execution_count": 15,
   "id": "5ab5def5-e675-4b39-8a9b-3ea258df5f9e",
   "metadata": {},
   "outputs": [],
   "source": [
    "from sklearn.utils import resample\n",
    "df_mojarity=df[df['TenYearCHD']==0]\n",
    "df_minority=df[df['TenYearCHD']==1]"
   ]
  },
  {
   "cell_type": "code",
   "execution_count": 16,
   "id": "7f4bdda3-db50-42fc-8795-4708a5226d7a",
   "metadata": {},
   "outputs": [],
   "source": [
    "unsample_data=resample(df_minority,random_state=42,replace=True, n_samples=len(df_mojarity))"
   ]
  },
  {
   "cell_type": "code",
   "execution_count": 17,
   "id": "951fe806-181f-41e1-a3ea-55d546746dab",
   "metadata": {},
   "outputs": [],
   "source": [
    "df_balanced=pd.concat([df_mojarity,unsample_data])"
   ]
  },
  {
   "cell_type": "code",
   "execution_count": 18,
   "id": "3b5d5d31-dfad-4ccd-80e8-24ca560ab814",
   "metadata": {},
   "outputs": [
    {
     "data": {
      "text/plain": [
       "<Axes: xlabel='TenYearCHD'>"
      ]
     },
     "execution_count": 18,
     "metadata": {},
     "output_type": "execute_result"
    },
    {
     "data": {
      "image/png": "[encoded data removed]",
      "text/plain": [
       "<Figure size 640x480 with 1 Axes>"
      ]
     },
     "metadata": {},
     "output_type": "display_data"
    }
   ],
   "source": [
    "df_balanced['TenYearCHD'].value_counts().plot(kind='bar')"
   ]
  },
  {
   "cell_type": "markdown",
   "id": "0ced0774-1bff-4e90-86e1-f33a1e27bbb5",
   "metadata": {},
   "source": [
    "## Model train"
   ]
  },
  {
   "cell_type": "code",
   "execution_count": 19,
   "id": "8c52ed73-3f1c-46e3-bb98-08c2b2ac63f9",
   "metadata": {},
   "outputs": [],
   "source": [
    "X=df.drop(df[['TenYearCHD']],axis=1)\n",
    "y=df[['TenYearCHD']]"
   ]
  },
  {
   "cell_type": "code",
   "execution_count": 20,
   "id": "3feaec22-267f-46f7-ae81-e9542a3fff1d",
   "metadata": {},
   "outputs": [],
   "source": [
    "from sklearn.model_selection import train_test_split\n",
    "X_train,X_test,y_train,y_test=train_test_split(X,y,test_size=0.2,random_state=42)"
   ]
  },
  {
   "cell_type": "code",
   "execution_count": 21,
   "id": "2d243ece-7605-4654-8f97-7a8b6f901bcd",
   "metadata": {},
   "outputs": [
    {
     "data": {
      "text/html": [
       "<div>\n",
       "<style scoped>\n",
       "    .dataframe tbody tr th:only-of-type {\n",
       "        vertical-align: middle;\n",
       "    }\n",
       "\n",
       "    .dataframe tbody tr th {\n",
       "        vertical-align: top;\n",
       "    }\n",
       "\n",
       "    .dataframe thead th {\n",
       "        text-align: right;\n",
       "    }\n",
       "</style>\n",
       "<table border=\"1\" class=\"dataframe\">\n",
       "  <thead>\n",
       "    <tr style=\"text-align: right;\">\n",
       "      <th></th>\n",
       "      <th>male</th>\n",
       "      <th>age</th>\n",
       "      <th>currentSmoker</th>\n",
       "      <th>cigsPerDay</th>\n",
       "      <th>BPMeds</th>\n",
       "      <th>prevalentStroke</th>\n",
       "      <th>prevalentHyp</th>\n",
       "      <th>diabetes</th>\n",
       "      <th>totChol</th>\n",
       "      <th>sysBP</th>\n",
       "      <th>diaBP</th>\n",
       "      <th>BMI</th>\n",
       "      <th>heartRate</th>\n",
       "      <th>glucose</th>\n",
       "    </tr>\n",
       "  </thead>\n",
       "  <tbody>\n",
       "    <tr>\n",
       "      <th>1427</th>\n",
       "      <td>0</td>\n",
       "      <td>53</td>\n",
       "      <td>1</td>\n",
       "      <td>20.0</td>\n",
       "      <td>0.0</td>\n",
       "      <td>0</td>\n",
       "      <td>0</td>\n",
       "      <td>0</td>\n",
       "      <td>221.0</td>\n",
       "      <td>131.0</td>\n",
       "      <td>89.0</td>\n",
       "      <td>24.09</td>\n",
       "      <td>90.0</td>\n",
       "      <td>95.0</td>\n",
       "    </tr>\n",
       "    <tr>\n",
       "      <th>3257</th>\n",
       "      <td>0</td>\n",
       "      <td>64</td>\n",
       "      <td>1</td>\n",
       "      <td>6.0</td>\n",
       "      <td>0.0</td>\n",
       "      <td>0</td>\n",
       "      <td>1</td>\n",
       "      <td>0</td>\n",
       "      <td>239.0</td>\n",
       "      <td>143.0</td>\n",
       "      <td>84.0</td>\n",
       "      <td>20.06</td>\n",
       "      <td>55.0</td>\n",
       "      <td>73.0</td>\n",
       "    </tr>\n",
       "    <tr>\n",
       "      <th>3822</th>\n",
       "      <td>0</td>\n",
       "      <td>38</td>\n",
       "      <td>0</td>\n",
       "      <td>0.0</td>\n",
       "      <td>0.0</td>\n",
       "      <td>0</td>\n",
       "      <td>0</td>\n",
       "      <td>0</td>\n",
       "      <td>185.0</td>\n",
       "      <td>100.0</td>\n",
       "      <td>72.0</td>\n",
       "      <td>22.15</td>\n",
       "      <td>85.0</td>\n",
       "      <td>83.0</td>\n",
       "    </tr>\n",
       "    <tr>\n",
       "      <th>1263</th>\n",
       "      <td>0</td>\n",
       "      <td>49</td>\n",
       "      <td>0</td>\n",
       "      <td>0.0</td>\n",
       "      <td>0.0</td>\n",
       "      <td>0</td>\n",
       "      <td>0</td>\n",
       "      <td>0</td>\n",
       "      <td>270.0</td>\n",
       "      <td>126.5</td>\n",
       "      <td>67.5</td>\n",
       "      <td>26.56</td>\n",
       "      <td>70.0</td>\n",
       "      <td>77.0</td>\n",
       "    </tr>\n",
       "    <tr>\n",
       "      <th>3575</th>\n",
       "      <td>1</td>\n",
       "      <td>56</td>\n",
       "      <td>1</td>\n",
       "      <td>20.0</td>\n",
       "      <td>0.0</td>\n",
       "      <td>0</td>\n",
       "      <td>0</td>\n",
       "      <td>0</td>\n",
       "      <td>186.0</td>\n",
       "      <td>116.0</td>\n",
       "      <td>67.0</td>\n",
       "      <td>24.62</td>\n",
       "      <td>70.0</td>\n",
       "      <td>83.0</td>\n",
       "    </tr>\n",
       "  </tbody>\n",
       "</table>\n",
       "</div>"
      ],
      "text/plain": [
       "      male  age  currentSmoker  cigsPerDay  BPMeds  prevalentStroke  \\\n",
       "1427     0   53              1        20.0     0.0                0   \n",
       "3257     0   64              1         6.0     0.0                0   \n",
       "3822     0   38              0         0.0     0.0                0   \n",
       "1263     0   49              0         0.0     0.0                0   \n",
       "3575     1   56              1        20.0     0.0                0   \n",
       "\n",
       "      prevalentHyp  diabetes  totChol  sysBP  diaBP    BMI  heartRate  glucose  \n",
       "1427             0         0    221.0  131.0   89.0  24.09       90.0     95.0  \n",
       "3257             1         0    239.0  143.0   84.0  20.06       55.0     73.0  \n",
       "3822             0         0    185.0  100.0   72.0  22.15       85.0     83.0  \n",
       "1263             0         0    270.0  126.5   67.5  26.56       70.0     77.0  \n",
       "3575             0         0    186.0  116.0   67.0  24.62       70.0     83.0  "
      ]
     },
     "execution_count": 21,
     "metadata": {},
     "output_type": "execute_result"
    }
   ],
   "source": [
    "X_train.head()"
   ]
  },
  {
   "cell_type": "code",
   "execution_count": 22,
   "id": "59baa7e2-3ec2-4501-93ad-56073e51bf3e",
   "metadata": {},
   "outputs": [
    {
     "data": {
      "text/html": [
       "<div>\n",
       "<style scoped>\n",
       "    .dataframe tbody tr th:only-of-type {\n",
       "        vertical-align: middle;\n",
       "    }\n",
       "\n",
       "    .dataframe tbody tr th {\n",
       "        vertical-align: top;\n",
       "    }\n",
       "\n",
       "    .dataframe thead th {\n",
       "        text-align: right;\n",
       "    }\n",
       "</style>\n",
       "<table border=\"1\" class=\"dataframe\">\n",
       "  <thead>\n",
       "    <tr style=\"text-align: right;\">\n",
       "      <th></th>\n",
       "      <th>TenYearCHD</th>\n",
       "    </tr>\n",
       "  </thead>\n",
       "  <tbody>\n",
       "    <tr>\n",
       "      <th>1427</th>\n",
       "      <td>0</td>\n",
       "    </tr>\n",
       "    <tr>\n",
       "      <th>3257</th>\n",
       "      <td>0</td>\n",
       "    </tr>\n",
       "    <tr>\n",
       "      <th>3822</th>\n",
       "      <td>0</td>\n",
       "    </tr>\n",
       "    <tr>\n",
       "      <th>1263</th>\n",
       "      <td>0</td>\n",
       "    </tr>\n",
       "    <tr>\n",
       "      <th>3575</th>\n",
       "      <td>0</td>\n",
       "    </tr>\n",
       "  </tbody>\n",
       "</table>\n",
       "</div>"
      ],
      "text/plain": [
       "      TenYearCHD\n",
       "1427           0\n",
       "3257           0\n",
       "3822           0\n",
       "1263           0\n",
       "3575           0"
      ]
     },
     "execution_count": 22,
     "metadata": {},
     "output_type": "execute_result"
    }
   ],
   "source": [
    "y_train.head()"
   ]
  },
  {
   "cell_type": "raw",
   "id": "ffd0bb09-ddea-4083-a366-bb40a9b8c79f",
   "metadata": {},
   "source": [
    "AS you seen that the data is not in sacled form so we convert it into scale form"
   ]
  },
  {
   "cell_type": "markdown",
   "id": "67f443b1-d1fd-42b7-b885-a2505a2cf0a6",
   "metadata": {},
   "source": [
    "## Scaling data to avoid basied"
   ]
  },
  {
   "cell_type": "code",
   "execution_count": 23,
   "id": "ca67f327-61a0-4473-9c0b-6205acb2df8f",
   "metadata": {},
   "outputs": [],
   "source": [
    "from sklearn.preprocessing import StandardScaler\n",
    "ss=StandardScaler()\n",
    "X_train_scaled=ss.fit_transform(X_train)\n",
    "X_test_scaled=ss.fit_transform(X_test)\n"
   ]
  },
  {
   "cell_type": "code",
   "execution_count": 24,
   "id": "a1189529-2224-4903-8845-34b676e919b1",
   "metadata": {},
   "outputs": [
    {
     "data": {
      "text/plain": [
       "array([[-0.86045318,  0.39974402,  0.98769364, ..., -0.41854316,\n",
       "         1.16336162,  0.59074045],\n",
       "       [-0.86045318,  1.68620673,  0.98769364, ..., -1.39653754,\n",
       "        -1.76502213, -0.36911792],\n",
       "       [-0.86045318, -1.35452332, -1.01245969, ..., -0.88933946,\n",
       "         0.74502108,  0.06718134],\n",
       "       ...,\n",
       "       [-0.86045318,  1.21840211, -1.01245969, ..., -0.17586465,\n",
       "         0.57768487, -0.02007851],\n",
       "       [ 1.16217828, -1.23757217,  0.98769364, ..., -0.31904497,\n",
       "        -0.67733674, -0.8490471 ],\n",
       "       [-0.86045318, -1.70537679, -1.01245969, ..., -1.255784  ,\n",
       "         1.16336162, -0.06370844]])"
      ]
     },
     "execution_count": 24,
     "metadata": {},
     "output_type": "execute_result"
    }
   ],
   "source": [
    "X_train_scaled"
   ]
  },
  {
   "cell_type": "markdown",
   "id": "af920827-c2cd-4de6-98f1-bd85989d4e6f",
   "metadata": {},
   "source": [
    "## Model train on RandomForestclassifier algrothim"
   ]
  },
  {
   "cell_type": "code",
   "execution_count": 50,
   "id": "5d255c9f-1bfd-4c5e-9876-19630d338315",
   "metadata": {},
   "outputs": [
    {
     "name": "stderr",
     "output_type": "stream",
     "text": [
      "C:\\Users\\haseeeb\\AppData\\Local\\Programs\\Python\\Python311\\Lib\\site-packages\\sklearn\\base.py:1389: DataConversionWarning: A column-vector y was passed when a 1d array was expected. Please change the shape of y to (n_samples,), for example using ravel().\n",
      "  return fit_method(estimator, *args, **kwargs)\n"
     ]
    }
   ],
   "source": [
    "from sklearn.ensemble import RandomForestClassifier\n",
    "rs=RandomForestClassifier(random_state=42)\n",
    "rs.fit(X_train_scaled,y_train)\n",
    "rs_predict=rs.predict(X_test_scaled)"
   ]
  },
  {
   "cell_type": "markdown",
   "id": "780eb393-68a7-43be-a7e2-6e2f8c780d7c",
   "metadata": {},
   "source": [
    "## checking accuracy of mdoel"
   ]
  },
  {
   "cell_type": "code",
   "execution_count": 51,
   "id": "0b6a98a0-477d-4909-8d5a-beb723ef628b",
   "metadata": {
    "scrolled": true
   },
   "outputs": [
    {
     "name": "stdout",
     "output_type": "stream",
     "text": [
      "Model Accuracy score: 0.8502358490566038\n",
      "Model Confusion mertix: [[715  10]\n",
      " [117   6]]\n",
      "Model classification_report:               precision    recall  f1-score   support\n",
      "\n",
      "           0       0.86      0.99      0.92       725\n",
      "           1       0.38      0.05      0.09       123\n",
      "\n",
      "    accuracy                           0.85       848\n",
      "   macro avg       0.62      0.52      0.50       848\n",
      "weighted avg       0.79      0.85      0.80       848\n",
      "\n"
     ]
    }
   ],
   "source": [
    "from sklearn.metrics import accuracy_score,confusion_matrix,classification_report\n",
    "print(f'Model Accuracy score: {accuracy_score(y_test,rs_predict)}')\n",
    "print(f'Model Confusion mertix: {confusion_matrix(y_test,rs_predict)}')\n",
    "print(f'Model classification_report: {classification_report(y_test,rs_predict)}')\n",
    "\n"
   ]
  },
  {
   "cell_type": "code",
   "execution_count": 43,
   "id": "a51dcf54-7e34-4746-8161-c52ca86d5074",
   "metadata": {},
   "outputs": [
    {
     "name": "stderr",
     "output_type": "stream",
     "text": [
      "C:\\Users\\haseeeb\\AppData\\Local\\Programs\\Python\\Python311\\Lib\\site-packages\\sklearn\\base.py:1389: DataConversionWarning: A column-vector y was passed when a 1d array was expected. Please change the shape of y to (n_samples,), for example using ravel().\n",
      "  return fit_method(estimator, *args, **kwargs)\n"
     ]
    },
    {
     "name": "stdout",
     "output_type": "stream",
     "text": [
      "Model Accuracy score: 0.8502358490566038\n",
      "Model Confusion mertix: [[715  10]\n",
      " [117   6]]\n",
      "Model classification_report:               precision    recall  f1-score   support\n",
      "\n",
      "           0       0.86      0.99      0.92       725\n",
      "           1       0.38      0.05      0.09       123\n",
      "\n",
      "    accuracy                           0.85       848\n",
      "   macro avg       0.62      0.52      0.50       848\n",
      "weighted avg       0.79      0.85      0.80       848\n",
      "\n"
     ]
    }
   ],
   "source": [
    "from sklearn.svm import SVC\n",
    "ada=SVC()\n",
    "ada_model=rs.fit(X_train_scaled,y_train)\n",
    "ada_predict=rs_model.predict(X_test_scaled)\n",
    "\n",
    "print(f'Model Accuracy score: {accuracy_score(y_test,ada_predict)}')\n",
    "print(f'Model Confusion mertix: {confusion_matrix(y_test,ada_predict)}')\n",
    "print(f'Model classification_report: {classification_report(y_test,ada_predict)}')\n",
    "\n"
   ]
  },
  {
   "cell_type": "code",
   "execution_count": 53,
   "id": "5c91c8c8-7485-4737-836b-33abfd2ef402",
   "metadata": {},
   "outputs": [
    {
     "name": "stderr",
     "output_type": "stream",
     "text": [
      "C:\\Users\\haseeeb\\AppData\\Local\\Programs\\Python\\Python311\\Lib\\site-packages\\sklearn\\preprocessing\\_label.py:93: DataConversionWarning: A column-vector y was passed when a 1d array was expected. Please change the shape of y to (n_samples, ), for example using ravel().\n",
      "  y = column_or_1d(y, warn=True)\n",
      "C:\\Users\\haseeeb\\AppData\\Local\\Programs\\Python\\Python311\\Lib\\site-packages\\sklearn\\preprocessing\\_label.py:129: DataConversionWarning: A column-vector y was passed when a 1d array was expected. Please change the shape of y to (n_samples, ), for example using ravel().\n",
      "  y = column_or_1d(y, dtype=self.classes_.dtype, warn=True)\n"
     ]
    }
   ],
   "source": [
    "from sklearn.ensemble import VotingClassifier\n",
    "voting=VotingClassifier(\n",
    "    estimators=[\n",
    "        (\"Randomforestclassifeir\",rs),\n",
    "        (\"SVC\",ada)\n",
    "    ],voting=\"hard\"\n",
    ")\n",
    "\n",
    "voting.fit(X_train_scaled,y_train)\n",
    "voting_predict=voting.predict(X_test_scaled)"
   ]
  },
  {
   "cell_type": "code",
   "execution_count": 54,
   "id": "6824ab3b-230d-4889-b375-1ef91043e05f",
   "metadata": {},
   "outputs": [
    {
     "name": "stdout",
     "output_type": "stream",
     "text": [
      "Model Accuracy score: 0.8537735849056604\n",
      "Model Confusion mertix: [[724   1]\n",
      " [123   0]]\n",
      "Model classification_report:               precision    recall  f1-score   support\n",
      "\n",
      "           0       0.85      1.00      0.92       725\n",
      "           1       0.00      0.00      0.00       123\n",
      "\n",
      "    accuracy                           0.85       848\n",
      "   macro avg       0.43      0.50      0.46       848\n",
      "weighted avg       0.73      0.85      0.79       848\n",
      "\n"
     ]
    }
   ],
   "source": [
    "print(f'Model Accuracy score: {accuracy_score(y_test,voting_predict)}')\n",
    "print(f'Model Confusion mertix: {confusion_matrix(y_test,voting_predict)}')\n",
    "print(f'Model classification_report: {classification_report(y_test,voting_predict)}')\n"
   ]
  },
  {
   "cell_type": "code",
   "execution_count": 55,
   "id": "e3f239be-bf78-49c7-ab9b-b6be80fb287d",
   "metadata": {},
   "outputs": [],
   "source": [
    "def prediction(male, age, currentSmoker, cigsPerDay, BPMeds, prevalentStroke, prevalentHyp, diabetes, totChol, sysBP, diaBP, BMI, heartRate, glucose):\n",
    "    # Prepare input data\n",
    "    data = {\n",
    "        'male': [male],\n",
    "        'age': [age],\n",
    "        'currentSmoker': [currentSmoker],\n",
    "        'cigsPerDay': [cigsPerDay],\n",
    "        'BPMeds': [BPMeds],\n",
    "        'prevalentStroke': [prevalentStroke],\n",
    "        'prevalentHyp': [prevalentHyp],\n",
    "        'diabetes': [diabetes],\n",
    "        'totChol': [totChol],\n",
    "        'sysBP': [sysBP],\n",
    "        'diaBP': [diaBP],\n",
    "        'BMI': [BMI],\n",
    "        'heartRate': [heartRate],\n",
    "        'glucose': [glucose]\n",
    "    }\n",
    "\n",
    "    # Create DataFrame\n",
    "    df = pd.DataFrame(data)\n",
    "\n",
    "    # Scale numeric features\n",
    "    \n",
    "\n",
    "    # Predict\n",
    "    result = voting.predict(df).reshape(1, -1)\n",
    "    return result[0]\n"
   ]
  },
  {
   "cell_type": "code",
   "execution_count": 61,
   "id": "83ad1c32-a68c-4264-af97-0fdd2eee2c35",
   "metadata": {},
   "outputs": [
    {
     "name": "stderr",
     "output_type": "stream",
     "text": [
      "C:\\Users\\haseeeb\\AppData\\Local\\Programs\\Python\\Python311\\Lib\\site-packages\\sklearn\\utils\\validation.py:2732: UserWarning: X has feature names, but RandomForestClassifier was fitted without feature names\n",
      "  warnings.warn(\n",
      "C:\\Users\\haseeeb\\AppData\\Local\\Programs\\Python\\Python311\\Lib\\site-packages\\sklearn\\utils\\validation.py:2732: UserWarning: X has feature names, but SVC was fitted without feature names\n",
      "  warnings.warn(\n"
     ]
    }
   ],
   "source": [
    "re=prediction(0,63,0,0.0,0.0,0,1,0,210.0,148,85.5,24.01,76,88)\n",
    "#         \t\t0.0\t0\t1\t0\t210.0\t148.0\t85.5\t24.01\t76.0\t88.0\t"
   ]
  },
  {
   "cell_type": "code",
   "execution_count": 62,
   "id": "17b3e17a-f27f-44d7-bdea-fc9e11a9923a",
   "metadata": {},
   "outputs": [
    {
     "name": "stdout",
     "output_type": "stream",
     "text": [
      "No\n"
     ]
    }
   ],
   "source": [
    "if re==0:\n",
    "    print(\"No\")\n",
    "else:\n",
    "    print(\"yes\")"
   ]
  },
  {
   "cell_type": "code",
   "execution_count": 63,
   "id": "61a14f0f-e7b0-418c-948d-b6ad4d0b24b6",
   "metadata": {},
   "outputs": [],
   "source": [
    "import pickle\n",
    "pickle.dump(voting, open(\"Model/Heart disease detection model.pkl\", \"wb\"))"
   ]
  },
  {
   "cell_type": "code",
   "execution_count": null,
   "id": "280d00ed-b5f9-4199-94bb-93540804e041",
   "metadata": {},
   "outputs": [],
   "source": []
  }
 ],
 "metadata": {
  "kernelspec": {
   "display_name": "Python 3 (ipykernel)",
   "language": "python",
   "name": "python3"
  },
  "language_info": {
   "codemirror_mode": {
    "name": "ipython",
    "version": 3
   },
   "file_extension": ".py",
   "mimetype": "text/x-python",
   "name": "python",
   "nbconvert_exporter": "python",
   "pygments_lexer": "ipython3",
   "version": "3.11.1"
  }
 },
 "nbformat": 4,
 "nbformat_minor": 5
}
